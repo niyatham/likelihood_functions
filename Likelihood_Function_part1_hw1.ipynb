{
 "cells": [
  {
   "cell_type": "markdown",
   "id": "20c57d8f",
   "metadata": {},
   "source": [
    "#### Importing all the relevant libraries ####"
   ]
  },
  {
   "cell_type": "code",
   "execution_count": 1,
   "id": "971b303d",
   "metadata": {},
   "outputs": [],
   "source": [
    "import os\n",
    "import sys\n",
    "import pandas as pd\n",
    "import numpy as np\n",
    "import statsmodels.api as sm\n",
    "from scipy.optimize import minimize \n",
    "from scipy.stats import norm\n",
    "import math\n",
    "\n",
    "import matplotlib.pyplot as plt\n",
    "from scipy import stats \n",
    "from scipy.stats import lognorm"
   ]
  },
  {
   "cell_type": "markdown",
   "id": "d139bbfe",
   "metadata": {},
   "source": [
    "### Reading the data ###"
   ]
  },
  {
   "cell_type": "code",
   "execution_count": 2,
   "id": "1127609d",
   "metadata": {},
   "outputs": [],
   "source": [
    "file= r\"D:\\2_Semester_2_2022_MSHCA_Niyatha\\1_Mini2\\Advance Business Analytics\\homework1\\HW1_data-1.xlsx\"\n",
    "data = pd.read_excel(file)"
   ]
  },
  {
   "cell_type": "code",
   "execution_count": 3,
   "id": "dc24f939",
   "metadata": {},
   "outputs": [
    {
     "data": {
      "text/html": [
       "<div>\n",
       "<style scoped>\n",
       "    .dataframe tbody tr th:only-of-type {\n",
       "        vertical-align: middle;\n",
       "    }\n",
       "\n",
       "    .dataframe tbody tr th {\n",
       "        vertical-align: top;\n",
       "    }\n",
       "\n",
       "    .dataframe thead th {\n",
       "        text-align: right;\n",
       "    }\n",
       "</style>\n",
       "<table border=\"1\" class=\"dataframe\">\n",
       "  <thead>\n",
       "    <tr style=\"text-align: right;\">\n",
       "      <th></th>\n",
       "      <th>Gender</th>\n",
       "      <th>Rank</th>\n",
       "      <th>Years on the current rank</th>\n",
       "      <th>Degree</th>\n",
       "      <th>Years on the job</th>\n",
       "      <th>salary</th>\n",
       "    </tr>\n",
       "  </thead>\n",
       "  <tbody>\n",
       "    <tr>\n",
       "      <th>0</th>\n",
       "      <td>male</td>\n",
       "      <td>full</td>\n",
       "      <td>25</td>\n",
       "      <td>doctorate</td>\n",
       "      <td>35</td>\n",
       "      <td>36350</td>\n",
       "    </tr>\n",
       "    <tr>\n",
       "      <th>1</th>\n",
       "      <td>male</td>\n",
       "      <td>full</td>\n",
       "      <td>13</td>\n",
       "      <td>doctorate</td>\n",
       "      <td>22</td>\n",
       "      <td>35350</td>\n",
       "    </tr>\n",
       "    <tr>\n",
       "      <th>2</th>\n",
       "      <td>male</td>\n",
       "      <td>full</td>\n",
       "      <td>10</td>\n",
       "      <td>doctorate</td>\n",
       "      <td>23</td>\n",
       "      <td>28200</td>\n",
       "    </tr>\n",
       "    <tr>\n",
       "      <th>3</th>\n",
       "      <td>female</td>\n",
       "      <td>full</td>\n",
       "      <td>7</td>\n",
       "      <td>doctorate</td>\n",
       "      <td>27</td>\n",
       "      <td>26775</td>\n",
       "    </tr>\n",
       "    <tr>\n",
       "      <th>4</th>\n",
       "      <td>male</td>\n",
       "      <td>full</td>\n",
       "      <td>19</td>\n",
       "      <td>masters</td>\n",
       "      <td>30</td>\n",
       "      <td>33696</td>\n",
       "    </tr>\n",
       "  </tbody>\n",
       "</table>\n",
       "</div>"
      ],
      "text/plain": [
       "   Gender  Rank  Years on the current rank     Degree  Years on the job  \\\n",
       "0    male  full                         25  doctorate                35   \n",
       "1    male  full                         13  doctorate                22   \n",
       "2    male  full                         10  doctorate                23   \n",
       "3  female  full                          7  doctorate                27   \n",
       "4    male  full                         19    masters                30   \n",
       "\n",
       "   salary  \n",
       "0   36350  \n",
       "1   35350  \n",
       "2   28200  \n",
       "3   26775  \n",
       "4   33696  "
      ]
     },
     "execution_count": 3,
     "metadata": {},
     "output_type": "execute_result"
    }
   ],
   "source": [
    "data.head()"
   ]
  },
  {
   "cell_type": "code",
   "execution_count": 4,
   "id": "3923ea9f",
   "metadata": {},
   "outputs": [],
   "source": [
    "# encoding rank with 3,2 and 1\n",
    "data['Rank'] = np.where(data['Rank']==\"full\",3,\n",
    "                       np.where(data['Rank']==\"associate\",2,1))"
   ]
  },
  {
   "cell_type": "code",
   "execution_count": 5,
   "id": "a3905a81",
   "metadata": {},
   "outputs": [
    {
     "data": {
      "text/html": [
       "<div>\n",
       "<style scoped>\n",
       "    .dataframe tbody tr th:only-of-type {\n",
       "        vertical-align: middle;\n",
       "    }\n",
       "\n",
       "    .dataframe tbody tr th {\n",
       "        vertical-align: top;\n",
       "    }\n",
       "\n",
       "    .dataframe thead th {\n",
       "        text-align: right;\n",
       "    }\n",
       "</style>\n",
       "<table border=\"1\" class=\"dataframe\">\n",
       "  <thead>\n",
       "    <tr style=\"text-align: right;\">\n",
       "      <th></th>\n",
       "      <th>Rank</th>\n",
       "      <th>Years on the current rank</th>\n",
       "      <th>Years on the job</th>\n",
       "      <th>salary</th>\n",
       "      <th>Gender_male</th>\n",
       "      <th>Degree_masters</th>\n",
       "    </tr>\n",
       "  </thead>\n",
       "  <tbody>\n",
       "    <tr>\n",
       "      <th>0</th>\n",
       "      <td>3</td>\n",
       "      <td>25</td>\n",
       "      <td>35</td>\n",
       "      <td>36350</td>\n",
       "      <td>1</td>\n",
       "      <td>0</td>\n",
       "    </tr>\n",
       "    <tr>\n",
       "      <th>1</th>\n",
       "      <td>3</td>\n",
       "      <td>13</td>\n",
       "      <td>22</td>\n",
       "      <td>35350</td>\n",
       "      <td>1</td>\n",
       "      <td>0</td>\n",
       "    </tr>\n",
       "    <tr>\n",
       "      <th>2</th>\n",
       "      <td>3</td>\n",
       "      <td>10</td>\n",
       "      <td>23</td>\n",
       "      <td>28200</td>\n",
       "      <td>1</td>\n",
       "      <td>0</td>\n",
       "    </tr>\n",
       "    <tr>\n",
       "      <th>3</th>\n",
       "      <td>3</td>\n",
       "      <td>7</td>\n",
       "      <td>27</td>\n",
       "      <td>26775</td>\n",
       "      <td>0</td>\n",
       "      <td>0</td>\n",
       "    </tr>\n",
       "    <tr>\n",
       "      <th>4</th>\n",
       "      <td>3</td>\n",
       "      <td>19</td>\n",
       "      <td>30</td>\n",
       "      <td>33696</td>\n",
       "      <td>1</td>\n",
       "      <td>1</td>\n",
       "    </tr>\n",
       "  </tbody>\n",
       "</table>\n",
       "</div>"
      ],
      "text/plain": [
       "   Rank  Years on the current rank  Years on the job  salary  Gender_male  \\\n",
       "0     3                         25                35   36350            1   \n",
       "1     3                         13                22   35350            1   \n",
       "2     3                         10                23   28200            1   \n",
       "3     3                          7                27   26775            0   \n",
       "4     3                         19                30   33696            1   \n",
       "\n",
       "   Degree_masters  \n",
       "0               0  \n",
       "1               0  \n",
       "2               0  \n",
       "3               0  \n",
       "4               1  "
      ]
     },
     "execution_count": 5,
     "metadata": {},
     "output_type": "execute_result"
    }
   ],
   "source": [
    "#encode the data\n",
    "data_encoded=pd.get_dummies(data=data,drop_first=True)\n",
    "data_encoded.head()"
   ]
  },
  {
   "cell_type": "code",
   "execution_count": 6,
   "id": "243e58ce",
   "metadata": {},
   "outputs": [
    {
     "data": {
      "text/plain": [
       "3    20\n",
       "1    18\n",
       "2    14\n",
       "Name: Rank, dtype: int64"
      ]
     },
     "execution_count": 6,
     "metadata": {},
     "output_type": "execute_result"
    }
   ],
   "source": [
    "data_encoded['Rank'].value_counts()"
   ]
  },
  {
   "cell_type": "code",
   "execution_count": 7,
   "id": "52fe36ea",
   "metadata": {},
   "outputs": [
    {
     "data": {
      "text/plain": [
       "Gender                       0\n",
       "Rank                         0\n",
       "Years on the current rank    0\n",
       "Degree                       0\n",
       "Years on the job             0\n",
       "salary                       0\n",
       "dtype: int64"
      ]
     },
     "execution_count": 7,
     "metadata": {},
     "output_type": "execute_result"
    }
   ],
   "source": [
    "data.isnull().sum()"
   ]
  },
  {
   "cell_type": "code",
   "execution_count": 8,
   "id": "e453320d",
   "metadata": {},
   "outputs": [
    {
     "data": {
      "text/plain": [
       "Gender  Rank  Years on the current rank  Degree     Years on the job  salary\n",
       "female  1     0                          doctorate  2                 20300     1\n",
       "              1                          doctorate  1                 15000     1\n",
       "male    2     8                          masters    31                20525     1\n",
       "              9                          doctorate  12                24832     1\n",
       "                                         masters    27                23712     1\n",
       "              10                         masters    15                22906     1\n",
       "              11                         doctorate  14                24800     1\n",
       "                                         masters    14                24742     1\n",
       "                                                    31                23300     1\n",
       "              15                         doctorate  19                24750     1\n",
       "        3     5                          doctorate  18                25400     1\n",
       "              6                          masters    21                24450     1\n",
       "              7                          doctorate  13                27959     1\n",
       "                                                    15                29342     1\n",
       "              9                          doctorate  17                28200     1\n",
       "                                                    24                25748     1\n",
       "              10                         doctorate  23                28200     1\n",
       "              12                         doctorate  22                27025     1\n",
       "              13                         doctorate  20                31114     1\n",
       "                                                    22                35350     1\n",
       "                                         masters    30                31850     1\n",
       "                                                    31                32850     1\n",
       "              16                         doctorate  18                31909     1\n",
       "                                                    21                28516     1\n",
       "              19                         masters    30                33696     1\n",
       "        2     3                          masters    17                23725     1\n",
       "                                                    7                 26182     1\n",
       "              1                          doctorate  9                 20850     1\n",
       "female  3     7                          doctorate  27                26775     1\n",
       "        1     1                          doctorate  1                 16686     1\n",
       "              2                          doctorate  2                 15350     1\n",
       "                                                    6                 16150     1\n",
       "              3                          doctorate  3                 17250     1\n",
       "              8                          doctorate  14                18304     1\n",
       "              10                         masters    15                21600     1\n",
       "        2     4                          masters    33                20690     1\n",
       "              6                          masters    29                22450     1\n",
       "        3     0                          masters    32                24900     1\n",
       "              5                          doctorate  16                25500     1\n",
       "              8                          doctorate  24                38045     1\n",
       "male    2     0                          doctorate  7                 20999     1\n",
       "        1     1                          doctorate  1                 16244     1\n",
       "              2                          doctorate  1                 16094     1\n",
       "                                                    3                 16500     1\n",
       "              3                          doctorate  4                 18075     1\n",
       "                                         masters    11                18000     1\n",
       "              4                          doctorate  4                 17095     1\n",
       "                                                                      17600     1\n",
       "                                                    5                 16700     1\n",
       "              9                          masters    14                23713     1\n",
       "              16                         masters    23                19175     1\n",
       "        3     25                         doctorate  35                36350     1\n",
       "dtype: int64"
      ]
     },
     "execution_count": 8,
     "metadata": {},
     "output_type": "execute_result"
    }
   ],
   "source": [
    "data.value_counts()"
   ]
  },
  {
   "cell_type": "markdown",
   "id": "e05fc680",
   "metadata": {},
   "source": [
    "### Que 2 "
   ]
  },
  {
   "cell_type": "markdown",
   "id": "134aa95f",
   "metadata": {},
   "source": [
    "#### Can you provide some arguments on what and how will you test if there is discrimination?"
   ]
  },
  {
   "cell_type": "markdown",
   "id": "bceed066",
   "metadata": {},
   "source": [
    "<li> Re-iterating, Problem statment would be to determine the factors that are associated with discrimation in a small college setting.\n",
    "<li> So the dependent variable here is salary, and we will check for any relationships between the other independent variables like gender, rank, years, degree, years on job and salary.\n",
    "<li> In brief, we are trying to understand if the salary paid to professors has any association with gender, rank, years on the job, degree, years on the current rank and salary. \n",
    "\n",
    " \n"
   ]
  },
  {
   "cell_type": "markdown",
   "id": "5a115030",
   "metadata": {},
   "source": [
    "<dt> Steps <dt>\n",
    "<li> Plot graph, scatter plot and for any relationship between dependent variable and independent variables.\n",
    "<li> Check if there is correlation between the independent variables.\n",
    "<li> Check if there is correlation between the dependent variables.\n",
    "<li> Run  OLS, and interpret the betas and check if these values are significant  "
   ]
  },
  {
   "cell_type": "markdown",
   "id": "abd90448",
   "metadata": {},
   "source": [
    "##### Scatter Plots #####"
   ]
  },
  {
   "cell_type": "code",
   "execution_count": 9,
   "id": "90976da4",
   "metadata": {},
   "outputs": [
    {
     "data": {
      "image/png": "[encoded data removed]",
      "text/plain": [
       "<Figure size 432x288 with 1 Axes>"
      ]
     },
     "metadata": {
      "needs_background": "light"
     },
     "output_type": "display_data"
    },
    {
     "data": {
      "image/png": "[encoded data removed]",
      "text/plain": [
       "<Figure size 432x288 with 1 Axes>"
      ]
     },
     "metadata": {
      "needs_background": "light"
     },
     "output_type": "display_data"
    }
   ],
   "source": [
    "for i in data[[\"Years on the current rank\",\"Years on the job\"]]:\n",
    "    data.plot.scatter(x = i, y = 'salary', s = 100)"
   ]
  },
  {
   "cell_type": "markdown",
   "id": "a70bfcaa",
   "metadata": {},
   "source": [
    "Interpretation : From these plots we can see that both the years on the job and years on the current rank have a positive correlation towards salary.\n",
    "However we cannot judge if these play a significant role or have any impact on our dependent variable. Let's look at the pearson correlation to measure the strength of the linear relationship between two variables."
   ]
  },
  {
   "cell_type": "code",
   "execution_count": 10,
   "id": "fbb47616",
   "metadata": {},
   "outputs": [
    {
     "data": {
      "text/plain": [
       "Index(['Gender', 'Rank', 'Years on the current rank', 'Degree',\n",
       "       'Years on the job', 'salary'],\n",
       "      dtype='object')"
      ]
     },
     "execution_count": 10,
     "metadata": {},
     "output_type": "execute_result"
    }
   ],
   "source": [
    "data.columns"
   ]
  },
  {
   "cell_type": "code",
   "execution_count": 11,
   "id": "3025b0f5",
   "metadata": {},
   "outputs": [
    {
     "data": {
      "text/plain": [
       "<seaborn.axisgrid.PairGrid at 0x26691e797f0>"
      ]
     },
     "execution_count": 11,
     "metadata": {},
     "output_type": "execute_result"
    },
    {
     "data": {
      "image/png": "[encoded data removed]",
      "text/plain": [
       "<Figure size 720x720 with 20 Axes>"
      ]
     },
     "metadata": {
      "needs_background": "light"
     },
     "output_type": "display_data"
    }
   ],
   "source": [
    "## using pairplots to look at the relationships of the independent and dependent variables\n",
    "import seaborn as sns\n",
    "sns.pairplot(data)"
   ]
  },
  {
   "cell_type": "markdown",
   "id": "04dffabc",
   "metadata": {},
   "source": [
    "##### Correlations #####"
   ]
  },
  {
   "cell_type": "code",
   "execution_count": 12,
   "id": "9aeed238",
   "metadata": {},
   "outputs": [],
   "source": [
    "corr = data.corr()"
   ]
  },
  {
   "cell_type": "code",
   "execution_count": 13,
   "id": "12020100",
   "metadata": {},
   "outputs": [
    {
     "data": {
      "text/html": [
       "<div>\n",
       "<style scoped>\n",
       "    .dataframe tbody tr th:only-of-type {\n",
       "        vertical-align: middle;\n",
       "    }\n",
       "\n",
       "    .dataframe tbody tr th {\n",
       "        vertical-align: top;\n",
       "    }\n",
       "\n",
       "    .dataframe thead th {\n",
       "        text-align: right;\n",
       "    }\n",
       "</style>\n",
       "<table border=\"1\" class=\"dataframe\">\n",
       "  <thead>\n",
       "    <tr style=\"text-align: right;\">\n",
       "      <th></th>\n",
       "      <th>Rank</th>\n",
       "      <th>Years on the current rank</th>\n",
       "      <th>Years on the job</th>\n",
       "      <th>salary</th>\n",
       "    </tr>\n",
       "  </thead>\n",
       "  <tbody>\n",
       "    <tr>\n",
       "      <th>Rank</th>\n",
       "      <td>1.000000</td>\n",
       "      <td>0.507980</td>\n",
       "      <td>0.695724</td>\n",
       "      <td>0.867488</td>\n",
       "    </tr>\n",
       "    <tr>\n",
       "      <th>Years on the current rank</th>\n",
       "      <td>0.507980</td>\n",
       "      <td>1.000000</td>\n",
       "      <td>0.638776</td>\n",
       "      <td>0.700669</td>\n",
       "    </tr>\n",
       "    <tr>\n",
       "      <th>Years on the job</th>\n",
       "      <td>0.695724</td>\n",
       "      <td>0.638776</td>\n",
       "      <td>1.000000</td>\n",
       "      <td>0.674854</td>\n",
       "    </tr>\n",
       "    <tr>\n",
       "      <th>salary</th>\n",
       "      <td>0.867488</td>\n",
       "      <td>0.700669</td>\n",
       "      <td>0.674854</td>\n",
       "      <td>1.000000</td>\n",
       "    </tr>\n",
       "  </tbody>\n",
       "</table>\n",
       "</div>"
      ],
      "text/plain": [
       "                               Rank  Years on the current rank  \\\n",
       "Rank                       1.000000                   0.507980   \n",
       "Years on the current rank  0.507980                   1.000000   \n",
       "Years on the job           0.695724                   0.638776   \n",
       "salary                     0.867488                   0.700669   \n",
       "\n",
       "                           Years on the job    salary  \n",
       "Rank                               0.695724  0.867488  \n",
       "Years on the current rank          0.638776  0.700669  \n",
       "Years on the job                   1.000000  0.674854  \n",
       "salary                             0.674854  1.000000  "
      ]
     },
     "execution_count": 13,
     "metadata": {},
     "output_type": "execute_result"
    }
   ],
   "source": [
    "corr"
   ]
  },
  {
   "cell_type": "code",
   "execution_count": 14,
   "id": "dd70331e",
   "metadata": {},
   "outputs": [
    {
     "data": {
      "text/plain": [
       "<AxesSubplot:>"
      ]
     },
     "execution_count": 14,
     "metadata": {},
     "output_type": "execute_result"
    },
    {
     "data": {
      "image/png": "[encoded data removed]",
      "text/plain": [
       "<Figure size 864x720 with 2 Axes>"
      ]
     },
     "metadata": {
      "needs_background": "light"
     },
     "output_type": "display_data"
    }
   ],
   "source": [
    "# Set up the matplotlib plot configuration\n",
    "#\n",
    "f, ax = plt.subplots(figsize=(12, 10))\n",
    "#\n",
    "# Generate a mask for upper traingle\n",
    "#\n",
    "mask = np.triu(np.ones_like(corr, dtype=bool))\n",
    "#\n",
    "# Configure a custom diverging colormap\n",
    "#\n",
    "cmap = sns.diverging_palette(230, 20, as_cmap=True)\n",
    "#\n",
    "# Draw the heatmap\n",
    "#\n",
    "sns.heatmap(corr, annot=True, mask = mask, cmap=cmap)"
   ]
  },
  {
   "cell_type": "markdown",
   "id": "6039997e",
   "metadata": {},
   "source": [
    "Interpretation : We can see that most of these variables have positive correlation of greater than 0.6. Lets further run an OLS to check if the variables are significant "
   ]
  },
  {
   "cell_type": "markdown",
   "id": "0e3f7801",
   "metadata": {},
   "source": [
    "### Write down the model you will test. Estimate the parameters and suggest whether you find any evidence of discrimination ###"
   ]
  },
  {
   "cell_type": "markdown",
   "id": "66c01741",
   "metadata": {},
   "source": [
    "##### Running OLS #####"
   ]
  },
  {
   "cell_type": "code",
   "execution_count": 15,
   "id": "373fd11b",
   "metadata": {},
   "outputs": [],
   "source": [
    "##Define intercept by a constant\n",
    "data_encoded['Intercept']=1\n",
    "#Run OLS using the OLS commang from statsmodels.api library\n",
    "#log sale\n",
    "results =sm.OLS(data_encoded.salary,data_encoded[[\"Intercept\",'Gender_male', 'Rank', 'Years on the current rank', 'Degree_masters',\n",
    "       'Years on the job']]).fit()"
   ]
  },
  {
   "cell_type": "code",
   "execution_count": 16,
   "id": "13e8e066",
   "metadata": {},
   "outputs": [
    {
     "data": {
      "text/html": [
       "<div>\n",
       "<style scoped>\n",
       "    .dataframe tbody tr th:only-of-type {\n",
       "        vertical-align: middle;\n",
       "    }\n",
       "\n",
       "    .dataframe tbody tr th {\n",
       "        vertical-align: top;\n",
       "    }\n",
       "\n",
       "    .dataframe thead th {\n",
       "        text-align: right;\n",
       "    }\n",
       "</style>\n",
       "<table border=\"1\" class=\"dataframe\">\n",
       "  <thead>\n",
       "    <tr style=\"text-align: right;\">\n",
       "      <th></th>\n",
       "      <th>Rank</th>\n",
       "      <th>Years on the current rank</th>\n",
       "      <th>Years on the job</th>\n",
       "      <th>salary</th>\n",
       "      <th>Gender_male</th>\n",
       "      <th>Degree_masters</th>\n",
       "      <th>Intercept</th>\n",
       "    </tr>\n",
       "  </thead>\n",
       "  <tbody>\n",
       "    <tr>\n",
       "      <th>0</th>\n",
       "      <td>3</td>\n",
       "      <td>25</td>\n",
       "      <td>35</td>\n",
       "      <td>36350</td>\n",
       "      <td>1</td>\n",
       "      <td>0</td>\n",
       "      <td>1</td>\n",
       "    </tr>\n",
       "    <tr>\n",
       "      <th>1</th>\n",
       "      <td>3</td>\n",
       "      <td>13</td>\n",
       "      <td>22</td>\n",
       "      <td>35350</td>\n",
       "      <td>1</td>\n",
       "      <td>0</td>\n",
       "      <td>1</td>\n",
       "    </tr>\n",
       "    <tr>\n",
       "      <th>2</th>\n",
       "      <td>3</td>\n",
       "      <td>10</td>\n",
       "      <td>23</td>\n",
       "      <td>28200</td>\n",
       "      <td>1</td>\n",
       "      <td>0</td>\n",
       "      <td>1</td>\n",
       "    </tr>\n",
       "    <tr>\n",
       "      <th>3</th>\n",
       "      <td>3</td>\n",
       "      <td>7</td>\n",
       "      <td>27</td>\n",
       "      <td>26775</td>\n",
       "      <td>0</td>\n",
       "      <td>0</td>\n",
       "      <td>1</td>\n",
       "    </tr>\n",
       "    <tr>\n",
       "      <th>4</th>\n",
       "      <td>3</td>\n",
       "      <td>19</td>\n",
       "      <td>30</td>\n",
       "      <td>33696</td>\n",
       "      <td>1</td>\n",
       "      <td>1</td>\n",
       "      <td>1</td>\n",
       "    </tr>\n",
       "  </tbody>\n",
       "</table>\n",
       "</div>"
      ],
      "text/plain": [
       "   Rank  Years on the current rank  Years on the job  salary  Gender_male  \\\n",
       "0     3                         25                35   36350            1   \n",
       "1     3                         13                22   35350            1   \n",
       "2     3                         10                23   28200            1   \n",
       "3     3                          7                27   26775            0   \n",
       "4     3                         19                30   33696            1   \n",
       "\n",
       "   Degree_masters  Intercept  \n",
       "0               0          1  \n",
       "1               0          1  \n",
       "2               0          1  \n",
       "3               0          1  \n",
       "4               1          1  "
      ]
     },
     "execution_count": 16,
     "metadata": {},
     "output_type": "execute_result"
    }
   ],
   "source": [
    "data_encoded.head()"
   ]
  },
  {
   "cell_type": "code",
   "execution_count": 17,
   "id": "13042210",
   "metadata": {},
   "outputs": [
    {
     "data": {
      "text/html": [
       "<table class=\"simpletable\">\n",
       "<caption>OLS Regression Results</caption>\n",
       "<tr>\n",
       "  <th>Dep. Variable:</th>         <td>salary</td>      <th>  R-squared:         </th> <td>   0.855</td>\n",
       "</tr>\n",
       "<tr>\n",
       "  <th>Model:</th>                   <td>OLS</td>       <th>  Adj. R-squared:    </th> <td>   0.839</td>\n",
       "</tr>\n",
       "<tr>\n",
       "  <th>Method:</th>             <td>Least Squares</td>  <th>  F-statistic:       </th> <td>   54.13</td>\n",
       "</tr>\n",
       "<tr>\n",
       "  <th>Date:</th>             <td>Wed, 30 Mar 2022</td> <th>  Prob (F-statistic):</th> <td>3.86e-18</td>\n",
       "</tr>\n",
       "<tr>\n",
       "  <th>Time:</th>                 <td>23:27:49</td>     <th>  Log-Likelihood:    </th> <td> -474.78</td>\n",
       "</tr>\n",
       "<tr>\n",
       "  <th>No. Observations:</th>      <td>    52</td>      <th>  AIC:               </th> <td>   961.6</td>\n",
       "</tr>\n",
       "<tr>\n",
       "  <th>Df Residuals:</th>          <td>    46</td>      <th>  BIC:               </th> <td>   973.3</td>\n",
       "</tr>\n",
       "<tr>\n",
       "  <th>Df Model:</th>              <td>     5</td>      <th>                     </th>     <td> </td>   \n",
       "</tr>\n",
       "<tr>\n",
       "  <th>Covariance Type:</th>      <td>nonrobust</td>    <th>                     </th>     <td> </td>   \n",
       "</tr>\n",
       "</table>\n",
       "<table class=\"simpletable\">\n",
       "<tr>\n",
       "              <td></td>                 <th>coef</th>     <th>std err</th>      <th>t</th>      <th>P>|t|</th>  <th>[0.025</th>    <th>0.975]</th>  \n",
       "</tr>\n",
       "<tr>\n",
       "  <th>Intercept</th>                 <td> 1.132e+04</td> <td>  966.807</td> <td>   11.709</td> <td> 0.000</td> <td> 9374.213</td> <td> 1.33e+04</td>\n",
       "</tr>\n",
       "<tr>\n",
       "  <th>Gender_male</th>               <td>-1241.7925</td> <td>  885.560</td> <td>   -1.402</td> <td> 0.168</td> <td>-3024.332</td> <td>  540.747</td>\n",
       "</tr>\n",
       "<tr>\n",
       "  <th>Rank</th>                      <td> 5586.1814</td> <td>  663.967</td> <td>    8.413</td> <td> 0.000</td> <td> 4249.685</td> <td> 6922.678</td>\n",
       "</tr>\n",
       "<tr>\n",
       "  <th>Years on the current rank</th> <td>  482.8598</td> <td>   91.718</td> <td>    5.265</td> <td> 0.000</td> <td>  298.242</td> <td>  667.478</td>\n",
       "</tr>\n",
       "<tr>\n",
       "  <th>Degree_masters</th>            <td> 1331.6441</td> <td>  992.854</td> <td>    1.341</td> <td> 0.186</td> <td> -666.868</td> <td> 3330.156</td>\n",
       "</tr>\n",
       "<tr>\n",
       "  <th>Years on the job</th>          <td> -128.7906</td> <td>   75.582</td> <td>   -1.704</td> <td> 0.095</td> <td> -280.928</td> <td>   23.347</td>\n",
       "</tr>\n",
       "</table>\n",
       "<table class=\"simpletable\">\n",
       "<tr>\n",
       "  <th>Omnibus:</th>       <td>26.336</td> <th>  Durbin-Watson:     </th> <td>   1.748</td>\n",
       "</tr>\n",
       "<tr>\n",
       "  <th>Prob(Omnibus):</th> <td> 0.000</td> <th>  Jarque-Bera (JB):  </th> <td>  54.754</td>\n",
       "</tr>\n",
       "<tr>\n",
       "  <th>Skew:</th>          <td> 1.482</td> <th>  Prob(JB):          </th> <td>1.29e-12</td>\n",
       "</tr>\n",
       "<tr>\n",
       "  <th>Kurtosis:</th>      <td> 7.060</td> <th>  Cond. No.          </th> <td>    77.9</td>\n",
       "</tr>\n",
       "</table><br/><br/>Notes:<br/>[1] Standard Errors assume that the covariance matrix of the errors is correctly specified."
      ],
      "text/plain": [
       "<class 'statsmodels.iolib.summary.Summary'>\n",
       "\"\"\"\n",
       "                            OLS Regression Results                            \n",
       "==============================================================================\n",
       "Dep. Variable:                 salary   R-squared:                       0.855\n",
       "Model:                            OLS   Adj. R-squared:                  0.839\n",
       "Method:                 Least Squares   F-statistic:                     54.13\n",
       "Date:                Wed, 30 Mar 2022   Prob (F-statistic):           3.86e-18\n",
       "Time:                        23:27:49   Log-Likelihood:                -474.78\n",
       "No. Observations:                  52   AIC:                             961.6\n",
       "Df Residuals:                      46   BIC:                             973.3\n",
       "Df Model:                           5                                         \n",
       "Covariance Type:            nonrobust                                         \n",
       "=============================================================================================\n",
       "                                coef    std err          t      P>|t|      [0.025      0.975]\n",
       "---------------------------------------------------------------------------------------------\n",
       "Intercept                  1.132e+04    966.807     11.709      0.000    9374.213    1.33e+04\n",
       "Gender_male               -1241.7925    885.560     -1.402      0.168   -3024.332     540.747\n",
       "Rank                       5586.1814    663.967      8.413      0.000    4249.685    6922.678\n",
       "Years on the current rank   482.8598     91.718      5.265      0.000     298.242     667.478\n",
       "Degree_masters             1331.6441    992.854      1.341      0.186    -666.868    3330.156\n",
       "Years on the job           -128.7906     75.582     -1.704      0.095    -280.928      23.347\n",
       "==============================================================================\n",
       "Omnibus:                       26.336   Durbin-Watson:                   1.748\n",
       "Prob(Omnibus):                  0.000   Jarque-Bera (JB):               54.754\n",
       "Skew:                           1.482   Prob(JB):                     1.29e-12\n",
       "Kurtosis:                       7.060   Cond. No.                         77.9\n",
       "==============================================================================\n",
       "\n",
       "Notes:\n",
       "[1] Standard Errors assume that the covariance matrix of the errors is correctly specified.\n",
       "\"\"\""
      ]
     },
     "execution_count": 17,
     "metadata": {},
     "output_type": "execute_result"
    }
   ],
   "source": [
    "results.summary()"
   ]
  },
  {
   "cell_type": "markdown",
   "id": "9afd88e0",
   "metadata": {},
   "source": [
    "### Interpretation ###"
   ]
  },
  {
   "cell_type": "markdown",
   "id": "1165d855",
   "metadata": {},
   "source": [
    "\n",
    "\n",
    "<li> Parameters\n",
    "<li>Betas for gender_male, rank, years on the current rank, degree_masters, years on the job are -1241.79, 5586.1814, 482.85, 1331.6441 and -128.79 respectively.\n",
    "The alpha ( constant/intercept is 11320). \n",
    "SE's for gender_male, rank, years on the current rank, degree_masters, years on the job are 885.56, 663.96, 91.7, 992.85 and 75.582 respectively. \n",
    "However not all of these are significant, only rank, years on the current rank are significant, since their p value < 0.05. ( note we are assuming a confidence interval of 95%) \n",
    "\n",
    " "
   ]
  },
  {
   "cell_type": "markdown",
   "id": "d512a5b5",
   "metadata": {},
   "source": [
    "<dt> This means that <dt>\n",
    "<li> On average, controlling for all factors, a unit increase in rank is associated with a 5586.18 dollars increase in salary.\n",
    "<li> On average, controlling for all factors, a one year increase in the current rank is associated with $482.85 increase in salary."
   ]
  },
  {
   "cell_type": "markdown",
   "id": "0968bf6f",
   "metadata": {},
   "source": [
    "#### Is there any evidence of discrimation ? ####\n",
    "With respect to gender we do not see any discrimation, however we do see an increase in salary associated with rank and years on the given rank. This is not a case of discrimation, these variables can be well explained since higher the rank, higher the salary in general. The same applies to years on the rank."
   ]
  },
  {
   "cell_type": "code",
   "execution_count": 18,
   "id": "20d38c92",
   "metadata": {},
   "outputs": [],
   "source": [
    "## Que 3"
   ]
  },
  {
   "cell_type": "markdown",
   "id": "f4518119",
   "metadata": {},
   "source": [
    "3a)Why would you prefer linear regression over other methods (like likelihood functions). (3)\n",
    "We prefer linear regression over other methods mainly because of its simplicity and explainabilty. The more complex\n",
    "a model gets, the harder it is to explain the model to business stakeholders. \n",
    "Also linear regression can be used in many ways by tweaking the independent variables and applying squares, or cubes. \n",
    "Following this we can apply log on both sides of the equation and apply OLS to get our results. \n",
    "\n",
    "\n",
    "3b) What is the benefit of using likelihood functions and distribution to estimate parameters? What are some shortcomings?\n",
    "Likelihood functions are very useful to model non-linear data, meaning in case of a linear regeression we assume that the\n",
    "dependent variable is normally distributed, and that the independent variables are linearly related to dependent variable.\n",
    "But in reality this might not be the case. \n",
    "Likelihood functions are a superset of other methods like linear regression, logistic regression etc. \n",
    "So applying likelihood functions and using MLE to estimate parameters will give us much better results in most cases. "
   ]
  },
  {
   "cell_type": "code",
   "execution_count": null,
   "id": "2c7e5c5d",
   "metadata": {},
   "outputs": [],
   "source": []
  }
 ],
 "metadata": {
  "kernelspec": {
   "display_name": "Python 3 (ipykernel)",
   "language": "python",
   "name": "python3"
  },
  "language_info": {
   "codemirror_mode": {
    "name": "ipython",
    "version": 3
   },
   "file_extension": ".py",
   "mimetype": "text/x-python",
   "name": "python",
   "nbconvert_exporter": "python",
   "pygments_lexer": "ipython3",
   "version": "3.9.7"
  },
  "toc": {
   "base_numbering": 1,
   "nav_menu": {},
   "number_sections": true,
   "sideBar": true,
   "skip_h1_title": false,
   "title_cell": "Table of Contents",
   "title_sidebar": "Contents",
   "toc_cell": false,
   "toc_position": {},
   "toc_section_display": true,
   "toc_window_display": false
  }
 },
 "nbformat": 4,
 "nbformat_minor": 5
}
